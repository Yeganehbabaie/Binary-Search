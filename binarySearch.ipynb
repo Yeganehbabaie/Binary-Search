{
 "cells": [
  {
   "cell_type": "code",
   "execution_count": null,
   "metadata": {},
   "outputs": [],
   "source": [
    "def binarySearch (arr, l, r, x): \n",
    "   \n",
    "    # Check base case \n",
    "    if r >= l: \n",
    "   \n",
    "        mid = l + (r - l) // 2\n",
    "   \n",
    "        # If element is present at the middle itself \n",
    "        if arr[mid] == x: \n",
    "            return mid \n",
    "           \n",
    "        # If element is smaller than mid, then it  \n",
    "        # can only be present in left subarray \n",
    "        elif arr[mid] > x: \n",
    "            return binarySearch(arr, l, mid-1, x) \n",
    "   \n",
    "        # Else the element can only be present  \n",
    "        # in right subarray \n",
    "        else: \n",
    "            return binarySearch(arr, mid + 1, r, x) \n",
    "   \n",
    "    else: \n",
    "        # Element is not present in the array \n",
    "        return -1\n",
    "if __name__ == '__main__':\n",
    "    arr = [ 2, 3, 4, 10, 40 ] \n",
    "    x = 10\n",
    "       \n",
    "    # Function call \n",
    "    result = binarySearch(arr, 00, len(arr)-1, x) \n",
    "       \n",
    "    if result != -1: \n",
    "        print (\"Element is present at index % d\" % result) \n",
    "    else: \n",
    "        print (\"Element is not present in array\")"
   ]
  }
 ],
 "metadata": {
  "language_info": {
   "name": "python"
  }
 },
 "nbformat": 4,
 "nbformat_minor": 2
}
